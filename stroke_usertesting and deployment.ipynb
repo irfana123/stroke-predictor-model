{
 "cells": [
  {
   "cell_type": "code",
   "execution_count": 21,
   "metadata": {},
   "outputs": [],
   "source": [
    "def user_prediction(x1,x2,x3,x4,x5,x6,x7,x8,x9,x10):\n",
    "\n",
    "    import pickle\n",
    "    import pandas as pd\n",
    "    f1=open(file=\"stroke-model.pkl\",mode=\"rb\")\n",
    "    model=pickle.load(f1)\n",
    "    f1.close()\n",
    "    d = {\"gender\":x1,\"age\":x2,\n",
    "             \"hypertension\":x3,\"heart_disease\":x4,\n",
    "             \"ever_married\":x5,\"work_type\":x6,\n",
    "             \"Residence_type\":x7,\"avg_glucose_level\":x8,\n",
    "             \"bmi\":x9,\"smoking_status\":x10}\n",
    "    data = pd.DataFrame(d,index=[0])\n",
    "\n",
    "    pred = model.predict(data)\n",
    "\n",
    "        #return pred\n",
    "\n",
    "    if pred[0]==1:\n",
    "        return \"will have stroke\"\n",
    "    else:\n",
    "        return \"wont have stroke\"\n"
   ]
  },
  {
   "cell_type": "code",
   "execution_count": 22,
   "metadata": {},
   "outputs": [
    {
     "data": {
      "text/plain": [
       "'wont have stroke'"
      ]
     },
     "execution_count": 22,
     "metadata": {},
     "output_type": "execute_result"
    }
   ],
   "source": [
    "user_prediction(\"Female\",82,\"No\",\"Yes\",\"Yes\",\"Private\",\"Urban\",83,28.1,\"never smoked\")\n"
   ]
  },
  {
   "cell_type": "markdown",
   "metadata": {},
   "source": [
    "# user testing"
   ]
  },
  {
   "cell_type": "code",
   "execution_count": 24,
   "metadata": {},
   "outputs": [
    {
     "name": "stdout",
     "output_type": "stream",
     "text": [
      "enter your gender Male/Female :female\n",
      "enter your Age :82\n",
      "Do you have hypertension  Yes/No :yes\n",
      "Do you have heart_disease Yes/No :no\n",
      "Are you married Yes/No :yes\n",
      "what is your work type\n",
      " 1.Gov-job \n",
      " 2.Private \n",
      " 3.Self-employed :2\n",
      "what is your residence type\n",
      " 1.Urban \n",
      " 2.Rural1\n",
      "enter your Average glucose level :229\n",
      "enter your bmi level :39\n",
      "Enter yourSmoking Status \n",
      " 1.formerly smoked \n",
      " 2.never smoked \n",
      " 3.smokes  \n",
      " 4.Unknown :2\n",
      "Accordin to machine learaning model:  wont have stroke\n"
     ]
    }
   ],
   "source": [
    "a=input(\"enter your gender Male/Female :\").capitalize()\n",
    "\n",
    "b=int(input(\"enter your Age :\"))    \n",
    "c=input(\"Do you have hypertension  Yes/No :\").capitalize()\n",
    "d=input(\"Do you have heart_disease Yes/No :\").capitalize()\n",
    "\n",
    "\n",
    "e=input(\"Are you married Yes/No :\").capitalize()\n",
    "f=int(input(\"what is your work type\\n 1.Gov-job \\n 2.Private \\n 3.Self-employed :\"))\n",
    "if f== 1:\n",
    "    f=\"Govt_job\"\n",
    "elif f==2:\n",
    "    f=\"Private\"\n",
    "else:\n",
    "    f=\"Self-employed\"\n",
    "g=int(input(\"what is your residence type\\n 1.Urban \\n 2.Rural\"))\n",
    "if g== 1:\n",
    "    g=\"Urban\"\n",
    "elif g==2:\n",
    "    g=\"Rural\"    \n",
    "h=int(input(\"enter your Average glucose level :\"))\n",
    "i=int(input(\"enter your bmi level :\"))\n",
    "\n",
    "j=int(input(\"Enter yourSmoking Status \\n 1.formerly smoked \\n 2.never smoked \\n 3.smokes  \\n 4.Unknown :\"))\n",
    "if j== 1:\n",
    "    j=\"formerly smoked\"\n",
    "elif j==2:\n",
    "    j=\"never smoked\"\n",
    "elif j==3:\n",
    "    j=\"smokes\"\n",
    "else:\n",
    "    j=\"Unknown\"\n",
    "\n",
    "print(\"Accordin to machine learaning model: \",user_prediction(a,b,c,d,e,f,g,h,i,j))   "
   ]
  },
  {
   "cell_type": "code",
   "execution_count": null,
   "metadata": {},
   "outputs": [],
   "source": []
  }
 ],
 "metadata": {
  "kernelspec": {
   "display_name": "Python 3",
   "language": "python",
   "name": "python3"
  },
  "language_info": {
   "codemirror_mode": {
    "name": "ipython",
    "version": 3
   },
   "file_extension": ".py",
   "mimetype": "text/x-python",
   "name": "python",
   "nbconvert_exporter": "python",
   "pygments_lexer": "ipython3",
   "version": "3.8.5"
  }
 },
 "nbformat": 4,
 "nbformat_minor": 4
}
